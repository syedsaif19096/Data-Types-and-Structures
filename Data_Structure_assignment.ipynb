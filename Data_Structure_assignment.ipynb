{
  "nbformat": 4,
  "nbformat_minor": 0,
  "metadata": {
    "colab": {
      "provenance": []
    },
    "kernelspec": {
      "name": "python3",
      "display_name": "Python 3"
    },
    "language_info": {
      "name": "python"
    }
  },
  "cells": [
    {
      "cell_type": "markdown",
      "source": [
        "# Data Types and Structures Questions\n",
        "\n",
        "Q1. What are data structures, and why are they important?\n",
        "- The way of organizing and storing data so that it can be easily access and manipulated efficiently.\n",
        "-  they are important because they improve the performance of algorithms, enable efficient data management for large datasets, and are fundamental for building robust and scalable software applications\n",
        "\n",
        "Q2.  Explain the difference between mutable and immutable data types with examples.\n",
        " - Mutable and immutable data types differ in whether their values can be changed after creation.\n",
        " - Mutable data types are those whose values can be modified in place after they are created. This means that operations performed on a mutable object can change its internal state without creating a new object in memory.\n",
        " - Immutable data types are those whose values cannot be changed after they are created. Any operation that appears to modify an immutable object actually results in the creation of a new object with the desired changes, leaving the original object unchanged\n",
        "\n",
        "Q3. What are the main differences between lists and tuples in Python?\n",
        " - lists and tuples both store collections of data, but differ in   mutability, performance and memory usage. Lists are mutable, allowing modifications, while tuples are immutable\n",
        "\n",
        "Q4. Describe how dictionaries store data.\n",
        "- dictionaries store data as collections of key-value pairs. This structure allows for efficient retrieval of values based on their associated keys.\n",
        "- also known as associative arrays, hash maps, or hash tables in various programming languages.\n",
        "\n",
        "Q5.   Why might you use a set instead of a list in Python.\n",
        " - In Python set instead of a list is advantageous in specific scenarios where their unique characteristics are beneficial.\n",
        " Sets inherently store only unique elements, Sets are implemented using hash tables, which allows for very efficient membership testing with an average time complexity of O(1) (constant time),\n",
        " Sets natively support mathematical set operations like union, intersection, difference, and symmetric difference.\n",
        "\n",
        "Q6. What is a string in Python, and how is it different from a list?\n",
        " - a string is a sequence of characters enclosed in quotes. It can include letters, numbers, symbols or spaces. Since Python has no separate character type, even a single character is treated as a string with length one. Strings are widely used for text handling and manipulation.\n",
        " - some difference is Strings are immutable and list is mutable\n",
        "\n",
        "Q7.  How do tuples ensure data integrity in Python?\n",
        " - Tuples in Python ensure data integrity primarily through their immutability. This means that once a tuple is created, its elements cannot be changed, added, or removed.\n",
        "\n",
        "Q8. What is a hash table, and how does it relate to dictionaries in Python?\n",
        " - A Hash Table is a data structure designed to be fast to work with.\n",
        "  The reason Hash Tables are sometimes preferred instead of arrays or linked lists is because searching for, adding, and deleting data can be done really quickly, even for large amounts of data.\n",
        " - Python dictionaries are implemented using hash tables. This means that when you use a dictionary in Python, you are indirectly interacting with a hash table.\n",
        "\n",
        "Q9. Can lists contain different data types in Python?\n",
        " - Yes, lists in Python can contain different data types. A single list can hold a mix of integers, floats, strings, booleans, and even other lists or dictionaries.\n",
        "\n",
        "Q10.  Explain why strings are immutable in Python?\n",
        " - Strings are immutable in Python, which means once a string is created, you can't change it. You can't modify its characters or its length.\n",
        "\n",
        "Q11. What advantages do dictionaries offer over lists for certain tasks?\n",
        " - Dictionaries offer several key advantages over lists for certain tasks, primarily due to their key-value structure and hash table implementation,  Fast Lookups and Access, Semantic and Descriptive Data Storage, Ease of Insertion, Deletion, and Modification.\n",
        "\n",
        "Q12.  Describe a scenario where using a tuple would be preferable over a list?\n",
        " - where you have a collection of items that should not change. A tuple's immutability ensures data integrity and can make the code more efficient and readable,here tuple would be preferable over a list.\n",
        "\n",
        "Q13. How do sets handle duplicate values in Python?\n",
        " - Python sets fundamentally do not allow duplicate values. When you attempt to add an element that already exists in a set, the set will simply ignore the addition and remain unchanged. It does not raise an error, nor does it store multiple copies of the same value.\n",
        "\n",
        "Q14. How does the “in” keyword work differently for lists and dictionaries.\n",
        " - The in keyword checks for the existence of an item. Its behavior is different for lists and dictionaries because of the underlying data structures and how they are searched.\n",
        " -Lists\n",
        "For lists, the in keyword performs a linear search. It checks each element in the list one by one to see if it matches the value you are looking for.\n",
        " - Dictionaries\n",
        "For dictionaries, the in keyword checks for the existence of a key. It uses the dictionary's underlying hash table implementation to perform a very fast lookup.\n",
        "\n",
        "Q15. Can you modify the elements of a tuple? Explain why or why not.\n",
        " - Tuples are unchangeable, meaning that you cannot change, add, or remove items once the tuple is created.\n",
        " -  Tuples are immutable, meaning once a tuple is created, its contents cannot be changed or modified.\n",
        "\n",
        " Q16. What is a nested dictionary, and give an example of its use case?\n",
        " - A nested dictionary is a dictionary where the values are themselves dictionaries. This allows you to create a hierarchical or multi-layered data structurec.\n",
        "  Ex. A common use case for a nested dictionary is to store complex, related data, like a database of students in a school. Each student can be a key in the main dictionary, and their corresponding value can be another dictionary containing their personal information and grades.\n",
        "\n",
        "Q17. Describe the time complexity of accessing elements in a dictionary.\n",
        " - The time complexity of accessing elements in a dictionary, such as in Python, is generally O(1) on average. This means that the time taken to retrieve a value associated with a key is constant, regardless of the number of elements in the dictionary.\n",
        "\n",
        "Q18. In what situations are lists preferred over dictionaries.\n",
        " - Lists are preferred over dictionaries in situations where\n",
        "   1.Elements are accessed by numerical index.\n",
        "   2.Order of elements is crucial.\n",
        "   3.Duplicate elements are allowed and meaningful.\n",
        "   4.Sequential processing or iteration is the primary operation.\n",
        "   5.Simple, ordered collections of data are required.\n",
        "   6.Appending or extending the collection is a frequent operation.\n",
        "\n",
        "Q19. Why are dictionaries considered unordered, and how does that affect data retrieval.\n",
        " - the order in which you inserted key-value pairs was not preserved, and iterating over the dictionary might yield a different order each time.\n",
        " - dictionaries were not insertion-ordered. This meant that the order of key-value pairs was unpredictable and could change, making it impossible to rely on the sequence for data retrieval. You couldn't assume that the first item you added would be the first one you retrieved when iterating.\n",
        "\n",
        "Q20. Explain the difference between a list and a dictionary in terms of data retrieval.\n",
        " - The core difference between a list and a dictionary in terms of data retrieval is how you access the elements. Lists use numerical indices for access, while dictionaries use keys.\n",
        " List : Ordered Collection, Indexed Retrieval, Sequential Search (for values).\n",
        " Dictionaries:Unordered Key-Value Pairs, Key-Based Retrieval, Direct Lookup (using keys).\n",
        "\n",
        " # practical Questions\n",
        "\n",
        " Q1. Write a code to create a string with your name and print it.\n",
        "   \n",
        "\n",
        "\n"
      ],
      "metadata": {
        "id": "itior_fqXShQ"
      }
    },
    {
      "cell_type": "code",
      "source": [
        "   # create a string with name syed\n",
        "my_name = \"syed\"\n",
        "print(my_name)"
      ],
      "metadata": {
        "colab": {
          "base_uri": "https://localhost:8080/"
        },
        "id": "LEfV227CKWHo",
        "outputId": "a0aa0211-09af-4bea-a027-29b646a89b08"
      },
      "execution_count": 1,
      "outputs": [
        {
          "output_type": "stream",
          "name": "stdout",
          "text": [
            "syed\n"
          ]
        }
      ]
    },
    {
      "cell_type": "markdown",
      "source": [
        "Q2. Write a code to find the length of the string \"Hello World\"."
      ],
      "metadata": {
        "id": "C-xKXCuMKs2b"
      }
    },
    {
      "cell_type": "code",
      "source": [
        "# length if \"hello world\"\n",
        "my_string = \"Hello World\"\n",
        "length = len(my_string)\n",
        "print(f\"The length of the string is: {length}\")"
      ],
      "metadata": {
        "colab": {
          "base_uri": "https://localhost:8080/"
        },
        "id": "l8xRjfRALo_V",
        "outputId": "0d887b4e-4d3a-4f17-a52d-1e99347f185a"
      },
      "execution_count": 2,
      "outputs": [
        {
          "output_type": "stream",
          "name": "stdout",
          "text": [
            "The length of the string is: 11\n"
          ]
        }
      ]
    },
    {
      "cell_type": "markdown",
      "source": [
        "Q3. Write a code to slice the first 3 characters from the string \"Python Programming\""
      ],
      "metadata": {
        "id": "cLiwCp8xQhPk"
      }
    },
    {
      "cell_type": "code",
      "source": [
        "original_string = \"Python Programming\"\n",
        "\n",
        "first_three_chars = original_string[:3]\n",
        "\n",
        "# Print the result.\n",
        "print(f\"Original string: {original_string}\")\n",
        "print(f\"First three characters: {first_three_chars}\")"
      ],
      "metadata": {
        "colab": {
          "base_uri": "https://localhost:8080/"
        },
        "id": "KpLctK8tQiCB",
        "outputId": "e5706f33-9862-48ab-b393-8758891a9855"
      },
      "execution_count": 3,
      "outputs": [
        {
          "output_type": "stream",
          "name": "stdout",
          "text": [
            "Original string: Python Programming\n",
            "First three characters: Pyt\n"
          ]
        }
      ]
    },
    {
      "cell_type": "markdown",
      "source": [
        "Q4. Write a code to convert the string \"hello\" to uppercase."
      ],
      "metadata": {
        "id": "T-W-1m6TRZRU"
      }
    },
    {
      "cell_type": "code",
      "source": [
        "my_string = \"hello\"\n",
        "uppercase_string = my_string.upper()\n",
        "print(f\"Original string: {my_string}\")\n",
        "print(f\"Uppercase string: {uppercase_string}\")"
      ],
      "metadata": {
        "colab": {
          "base_uri": "https://localhost:8080/"
        },
        "id": "SYcY3-2RRe5-",
        "outputId": "2d2f4dbc-9c6f-47b6-b167-0ee64c8ef8f7"
      },
      "execution_count": 4,
      "outputs": [
        {
          "output_type": "stream",
          "name": "stdout",
          "text": [
            "Original string: hello\n",
            "Uppercase string: HELLO\n"
          ]
        }
      ]
    },
    {
      "cell_type": "markdown",
      "source": [
        "Q5. Write a code to replace the word \"apple\" with \"orange\" in the string \"I like apple\"."
      ],
      "metadata": {
        "id": "Vv6UeUQcR0q2"
      }
    },
    {
      "cell_type": "code",
      "source": [
        "original_string = \"I like apple\"\n",
        "new_string = original_string.replace(\"apple\", \"orange\")\n",
        "print(f\"Original string: {original_string}\")\n",
        "print(f\"Modified string: {new_string}\")"
      ],
      "metadata": {
        "colab": {
          "base_uri": "https://localhost:8080/"
        },
        "id": "OERIzBTWSuLU",
        "outputId": "211dfbc9-1b44-4548-89f4-59264d9e2e94"
      },
      "execution_count": 5,
      "outputs": [
        {
          "output_type": "stream",
          "name": "stdout",
          "text": [
            "Original string: I like apple\n",
            "Modified string: I like orange\n"
          ]
        }
      ]
    },
    {
      "cell_type": "markdown",
      "source": [
        "Q6. Write a code to create a list with numbers 1 to 5 and print it."
      ],
      "metadata": {
        "id": "_G9JO0cTS8FO"
      }
    },
    {
      "cell_type": "code",
      "source": [
        "numbers = [1, 2, 3, 4, 5]\n",
        "\n",
        "# Print the entire list.\n",
        "print(numbers)"
      ],
      "metadata": {
        "colab": {
          "base_uri": "https://localhost:8080/"
        },
        "id": "S1a5vEQeWg_s",
        "outputId": "0c2a2323-f5d4-4d6a-bc21-972de318bca3"
      },
      "execution_count": 6,
      "outputs": [
        {
          "output_type": "stream",
          "name": "stdout",
          "text": [
            "[1, 2, 3, 4, 5]\n"
          ]
        }
      ]
    },
    {
      "cell_type": "markdown",
      "source": [
        "Q7. Write a code to append the number 10 to the list [1, 2, 3, 4]."
      ],
      "metadata": {
        "id": "pwTsONPRXDNS"
      }
    },
    {
      "cell_type": "code",
      "source": [
        "numbers = [1, 2, 3, 4]\n",
        "\n",
        "numbers.append(10)\n",
        "\n",
        "# Print the modified list to see the result.\n",
        "print(numbers)"
      ],
      "metadata": {
        "colab": {
          "base_uri": "https://localhost:8080/"
        },
        "id": "d-tl5GuFXX2a",
        "outputId": "de79fbb9-fd9e-44dd-81ca-b33f04e0fdb9"
      },
      "execution_count": 7,
      "outputs": [
        {
          "output_type": "stream",
          "name": "stdout",
          "text": [
            "[1, 2, 3, 4, 10]\n"
          ]
        }
      ]
    },
    {
      "cell_type": "markdown",
      "source": [
        "Q8. Write a code to remove the number 3 from the list [1, 2, 3, 4, 5]."
      ],
      "metadata": {
        "id": "ZzLirsWGceBY"
      }
    },
    {
      "cell_type": "code",
      "source": [
        "numbers = [1, 2, 3, 4, 5]\n",
        "numbers.remove(3)\n",
        "print(numbers)"
      ],
      "metadata": {
        "colab": {
          "base_uri": "https://localhost:8080/"
        },
        "id": "R6pMkv1wc2kG",
        "outputId": "cceec50d-caa5-4cbf-f3aa-23649436bab6"
      },
      "execution_count": 8,
      "outputs": [
        {
          "output_type": "stream",
          "name": "stdout",
          "text": [
            "[1, 2, 4, 5]\n"
          ]
        }
      ]
    },
    {
      "cell_type": "markdown",
      "source": [
        "Q9. Write a code to access the second element in the list ['a', 'b', 'c', 'd']."
      ],
      "metadata": {
        "id": "aUairnYFdIvQ"
      }
    },
    {
      "cell_type": "code",
      "source": [
        "my_list = ['a', 'b', 'c', 'd']\n",
        "second_element = my_list[1]\n",
        "print(f\"The second element is: {second_element}\")"
      ],
      "metadata": {
        "colab": {
          "base_uri": "https://localhost:8080/"
        },
        "id": "wO-ywYXwd4J_",
        "outputId": "c5f5e017-34bf-4102-dd9c-7e59349137dc"
      },
      "execution_count": 9,
      "outputs": [
        {
          "output_type": "stream",
          "name": "stdout",
          "text": [
            "The second element is: b\n"
          ]
        }
      ]
    },
    {
      "cell_type": "markdown",
      "source": [
        "Q10. Write a code to reverse the list [10, 20, 30, 40, 50]."
      ],
      "metadata": {
        "id": "rZ05oxQ9eFsE"
      }
    },
    {
      "cell_type": "code",
      "source": [
        "numbers = [10, 20, 30, 40, 50]\n",
        "print(f\"Original list: {numbers}\")\n",
        "numbers.reverse()\n",
        "print(f\"Reversed list: {numbers}\")\n"
      ],
      "metadata": {
        "colab": {
          "base_uri": "https://localhost:8080/"
        },
        "id": "6nbSNaJSeXbg",
        "outputId": "28effd9f-d634-467d-e705-58140bd7ec59"
      },
      "execution_count": 10,
      "outputs": [
        {
          "output_type": "stream",
          "name": "stdout",
          "text": [
            "Original list: [10, 20, 30, 40, 50]\n",
            "Reversed list: [50, 40, 30, 20, 10]\n"
          ]
        }
      ]
    },
    {
      "cell_type": "markdown",
      "source": [
        "Q11. Write a code to create a tuple with the elements 100, 200, 300 and print it."
      ],
      "metadata": {
        "id": "0tlbPzLnegfB"
      }
    },
    {
      "cell_type": "code",
      "source": [
        "my_tuple = (100, 200, 300)\n",
        "\n",
        "print(my_tuple)\n"
      ],
      "metadata": {
        "colab": {
          "base_uri": "https://localhost:8080/"
        },
        "id": "EH0B9LAFe_A2",
        "outputId": "79fc6c92-fc15-462a-f8b2-cca964873836"
      },
      "execution_count": 11,
      "outputs": [
        {
          "output_type": "stream",
          "name": "stdout",
          "text": [
            "(100, 200, 300)\n"
          ]
        }
      ]
    },
    {
      "cell_type": "markdown",
      "source": [
        "Q12. Write a code to access the second-to-last element of the tuple ('red', 'green', 'blue', 'yellow')."
      ],
      "metadata": {
        "id": "zjvBMY-dfGSK"
      }
    },
    {
      "cell_type": "code",
      "source": [
        "my_tuple = ('red', 'green', 'blue', 'yellow')\n",
        "second_to_last_element = my_tuple[-2]\n",
        "\n",
        "# Print the retrieved element.\n",
        "print(f\"The tuple is: {my_tuple}\")\n",
        "print(f\"The second-to-last element is: {second_to_last_element}\")"
      ],
      "metadata": {
        "colab": {
          "base_uri": "https://localhost:8080/"
        },
        "id": "KyGCT14Pfc48",
        "outputId": "2f8ff62d-24e0-4a04-c00a-3651e8007d30"
      },
      "execution_count": 12,
      "outputs": [
        {
          "output_type": "stream",
          "name": "stdout",
          "text": [
            "The tuple is: ('red', 'green', 'blue', 'yellow')\n",
            "The second-to-last element is: blue\n"
          ]
        }
      ]
    },
    {
      "cell_type": "markdown",
      "source": [
        "Q13. Write a code to find the minimum number in the tuple (10, 20, 5, 15)."
      ],
      "metadata": {
        "id": "uwJGF6UUfjhc"
      }
    },
    {
      "cell_type": "code",
      "source": [
        "numbers = (10, 20, 5, 15)\n",
        "min_number = min(numbers)\n",
        "print(f\"The tuple is: {numbers}\")\n",
        "print(f\"The minimum number is: {min_number}\")"
      ],
      "metadata": {
        "colab": {
          "base_uri": "https://localhost:8080/"
        },
        "id": "uGVchpBvfobF",
        "outputId": "60ae8cba-6880-4d41-c5da-494f50fb2077"
      },
      "execution_count": 13,
      "outputs": [
        {
          "output_type": "stream",
          "name": "stdout",
          "text": [
            "The tuple is: (10, 20, 5, 15)\n",
            "The minimum number is: 5\n"
          ]
        }
      ]
    },
    {
      "cell_type": "markdown",
      "source": [
        "Q14. Write a code to find the index of the element \"cat\" in the tuple ('dog', 'cat', 'rabbit')."
      ],
      "metadata": {
        "id": "7Jg4c6ydf9IE"
      }
    },
    {
      "cell_type": "code",
      "source": [
        "animals = ('dog', 'cat', 'rabbit')\n",
        "\n",
        "cat_index = animals.index('cat')\n",
        "\n",
        "# Print the result.\n",
        "print(f\"The tuple is: {animals}\")\n",
        "print(f\"The index of 'cat' is: {cat_index}\")"
      ],
      "metadata": {
        "colab": {
          "base_uri": "https://localhost:8080/"
        },
        "id": "jcj3npr0ihOk",
        "outputId": "94f1eab2-8976-4dfd-b0e2-da2d8ae099d4"
      },
      "execution_count": 14,
      "outputs": [
        {
          "output_type": "stream",
          "name": "stdout",
          "text": [
            "The tuple is: ('dog', 'cat', 'rabbit')\n",
            "The index of 'cat' is: 1\n"
          ]
        }
      ]
    },
    {
      "cell_type": "markdown",
      "source": [
        " Q15. Write a code to create a tuple containing three different fruits and check if \"kiwi\" is in it."
      ],
      "metadata": {
        "id": "GAccgbgFilc5"
      }
    },
    {
      "cell_type": "code",
      "source": [
        "fruits = ('apple', 'banana', 'orange')\n",
        "is_kiwi_in_tuple = 'kiwi' in fruits\n",
        "\n",
        "# Print the result.\n",
        "print(f\"The tuple is: {fruits}\")\n",
        "print(f\"Is 'kiwi' in the tuple? {is_kiwi_in_tuple}\")"
      ],
      "metadata": {
        "colab": {
          "base_uri": "https://localhost:8080/"
        },
        "id": "dBJdSk77jHTD",
        "outputId": "8adec329-8062-46c1-e3ae-5634388c355b"
      },
      "execution_count": 15,
      "outputs": [
        {
          "output_type": "stream",
          "name": "stdout",
          "text": [
            "The tuple is: ('apple', 'banana', 'orange')\n",
            "Is 'kiwi' in the tuple? False\n"
          ]
        }
      ]
    },
    {
      "cell_type": "markdown",
      "source": [
        "Q16. Write a code to create a set with the elements 'a', 'b', 'c' and print it."
      ],
      "metadata": {
        "id": "DFYf_vNYjsEh"
      }
    },
    {
      "cell_type": "code",
      "source": [
        "# a set with the elements 'a', 'b', and 'c'.\n",
        "my_set = {'a', 'b', 'c'}\n",
        "\n",
        "print(my_set)"
      ],
      "metadata": {
        "colab": {
          "base_uri": "https://localhost:8080/"
        },
        "id": "FMzIQ0M8jskL",
        "outputId": "75fcb190-41b1-4ac3-c49d-025293d4da8c"
      },
      "execution_count": 16,
      "outputs": [
        {
          "output_type": "stream",
          "name": "stdout",
          "text": [
            "{'a', 'c', 'b'}\n"
          ]
        }
      ]
    },
    {
      "cell_type": "markdown",
      "source": [
        "Q17.Write a code to clear all elements from the set {1, 2, 3, 4, 5}."
      ],
      "metadata": {
        "id": "j0UwWPaVkHjq"
      }
    },
    {
      "cell_type": "code",
      "source": [
        "# Create a set\n",
        "my_set = {1, 2, 3, 4, 5}\n",
        "\n",
        "print(f\"Original set: {my_set}\")\n",
        "my_set.clear()\n",
        "print(f\"Set after using .clear(): {my_set}\")"
      ],
      "metadata": {
        "colab": {
          "base_uri": "https://localhost:8080/"
        },
        "id": "Px_KU22ZkSkL",
        "outputId": "206af533-fe4e-4d75-a947-1c737173c8b7"
      },
      "execution_count": 17,
      "outputs": [
        {
          "output_type": "stream",
          "name": "stdout",
          "text": [
            "Original set: {1, 2, 3, 4, 5}\n",
            "Set after using .clear(): set()\n"
          ]
        }
      ]
    },
    {
      "cell_type": "markdown",
      "source": [
        "Q18. Write a code to remove the element 4 from the set {1, 2, 3, 4}."
      ],
      "metadata": {
        "id": "FUEIAK0dkcy_"
      }
    },
    {
      "cell_type": "code",
      "source": [
        "my_set = {1, 2, 3, 4}\n",
        "print(f\"Original set: {my_set}\")\n",
        "my_set.remove(4)\n",
        "print(f\"Set after removing 4: {my_set}\")\n"
      ],
      "metadata": {
        "colab": {
          "base_uri": "https://localhost:8080/"
        },
        "id": "4J7Y3m34kiP6",
        "outputId": "1d1bd63d-c2d0-435b-9fd2-2b010f014342"
      },
      "execution_count": 18,
      "outputs": [
        {
          "output_type": "stream",
          "name": "stdout",
          "text": [
            "Original set: {1, 2, 3, 4}\n",
            "Set after removing 4: {1, 2, 3}\n"
          ]
        }
      ]
    },
    {
      "cell_type": "markdown",
      "source": [
        "Q19. Write a code to find the union of two sets {1, 2, 3} and {3, 4, 5}."
      ],
      "metadata": {
        "id": "JIapU8cfkoja"
      }
    },
    {
      "cell_type": "code",
      "source": [
        "set1 = {1, 2, 3}\n",
        "set2 = {3, 4, 5}\n",
        "\n",
        "union_set = set1.union(set2)\n",
        "\n",
        "print(f\"Set 1: {set1}\")\n",
        "print(f\"Set 2: {set2}\")\n",
        "print(f\"Union of the sets: {union_set}\")"
      ],
      "metadata": {
        "colab": {
          "base_uri": "https://localhost:8080/"
        },
        "id": "p_UNfhGcp1V2",
        "outputId": "d8077291-1d3a-43ed-afa2-dd12a4e94716"
      },
      "execution_count": 19,
      "outputs": [
        {
          "output_type": "stream",
          "name": "stdout",
          "text": [
            "Set 1: {1, 2, 3}\n",
            "Set 2: {3, 4, 5}\n",
            "Union of the sets: {1, 2, 3, 4, 5}\n"
          ]
        }
      ]
    },
    {
      "cell_type": "markdown",
      "source": [
        "Q20. Write a code to find the intersection of two sets {1, 2, 3} and {2, 3, 4}."
      ],
      "metadata": {
        "id": "jBSUAWblqGEc"
      }
    },
    {
      "cell_type": "code",
      "source": [
        "# Define the two sets.\n",
        "set1 = {1, 2, 3}\n",
        "set2 = {2, 3, 4}\n",
        "\n",
        "intersection_set = set1.intersection(set2)\n",
        "\n",
        "print(f\"Set 1: {set1}\")\n",
        "print(f\"Set 2: {set2}\")\n",
        "print(f\"Intersection of the sets: {intersection_set}\")\n"
      ],
      "metadata": {
        "colab": {
          "base_uri": "https://localhost:8080/"
        },
        "id": "2WUygOb-qUdo",
        "outputId": "0e59b841-5062-446b-e030-292ace17f22d"
      },
      "execution_count": 20,
      "outputs": [
        {
          "output_type": "stream",
          "name": "stdout",
          "text": [
            "Set 1: {1, 2, 3}\n",
            "Set 2: {2, 3, 4}\n",
            "Intersection of the sets: {2, 3}\n"
          ]
        }
      ]
    },
    {
      "cell_type": "markdown",
      "source": [
        "Q21. Write a code to create a dictionary with the keys \"name\", \"age\", and \"city\", and print it."
      ],
      "metadata": {
        "id": "QzUPnuGxrR2M"
      }
    },
    {
      "cell_type": "code",
      "source": [
        "person_info = {\n",
        "    \"name\": \"Syed\",\n",
        "    \"age\": 31,\n",
        "    \"city\": \"Amravati\"\n",
        "}\n",
        "\n",
        "print(person_info)"
      ],
      "metadata": {
        "colab": {
          "base_uri": "https://localhost:8080/"
        },
        "id": "nOnEdzUtreU4",
        "outputId": "7a409f6d-74e4-412f-cd75-80f8cfbdb397"
      },
      "execution_count": 22,
      "outputs": [
        {
          "output_type": "stream",
          "name": "stdout",
          "text": [
            "{'name': 'Syed', 'age': 31, 'city': 'Amravati'}\n"
          ]
        }
      ]
    },
    {
      "cell_type": "markdown",
      "source": [
        "Q22. Write a code to add a new key-value pair \"country\": \"USA\" to the dictionary {'name': 'John', 'age': 25}."
      ],
      "metadata": {
        "id": "tSg52VWPsugF"
      }
    },
    {
      "cell_type": "code",
      "source": [
        "person_info = {\n",
        "    \"name\": \"John\",\n",
        "    \"age\": 25\n",
        "}\n",
        "person_info[\"country\"] = \"USA\"\n",
        "print(person_info)"
      ],
      "metadata": {
        "colab": {
          "base_uri": "https://localhost:8080/"
        },
        "id": "Ek9bkFKrtjuM",
        "outputId": "f1cbd7b4-4806-4a1c-c429-7fa7f8d8ffdb"
      },
      "execution_count": 24,
      "outputs": [
        {
          "output_type": "stream",
          "name": "stdout",
          "text": [
            "{'name': 'John', 'age': 25, 'country': 'USA'}\n"
          ]
        }
      ]
    },
    {
      "cell_type": "markdown",
      "source": [
        "Q23. Write a code to access the value associated with the key \"name\" in the dictionary {'name': 'Alice', 'age': 30}."
      ],
      "metadata": {
        "id": "Ux1CYeHqtwpm"
      }
    },
    {
      "cell_type": "code",
      "source": [
        "person_info = {\n",
        "    \"name\": \"Alice\",\n",
        "    \"age\": 30\n",
        "}\n",
        "name = person_info[\"name\"]\n",
        "print(name)"
      ],
      "metadata": {
        "colab": {
          "base_uri": "https://localhost:8080/"
        },
        "id": "-_5tx8tXt6u9",
        "outputId": "e2fa93a4-d150-40b4-8523-33641ea4479d"
      },
      "execution_count": 25,
      "outputs": [
        {
          "output_type": "stream",
          "name": "stdout",
          "text": [
            "Alice\n"
          ]
        }
      ]
    },
    {
      "cell_type": "markdown",
      "source": [
        "Q24. Write a code to remove the key \"age\" from the dictionary {'name': 'Bob', 'age': 22, 'city': 'New York'}.\n"
      ],
      "metadata": {
        "id": "KO5Q3ywful34"
      }
    },
    {
      "cell_type": "code",
      "source": [
        "person_info = {\n",
        "    \"name\": \"Bob\",\n",
        "    \"age\": 22,\n",
        "    \"city\": \"New York\"\n",
        "}\n",
        "\n",
        "del person_info[\"age\"]\n",
        "print(person_info)"
      ],
      "metadata": {
        "colab": {
          "base_uri": "https://localhost:8080/"
        },
        "id": "jeVAxXMHu7mF",
        "outputId": "8791105d-fa64-4a53-cff4-35368fe5c28c"
      },
      "execution_count": 26,
      "outputs": [
        {
          "output_type": "stream",
          "name": "stdout",
          "text": [
            "{'name': 'Bob', 'city': 'New York'}\n"
          ]
        }
      ]
    },
    {
      "cell_type": "markdown",
      "source": [
        "Q25. Write a code to check if the key \"city\" exists in the dictionary {'name': 'Alice', 'city': 'Paris'}."
      ],
      "metadata": {
        "id": "VQgnP4LmwgO2"
      }
    },
    {
      "cell_type": "code",
      "source": [
        "person_info = {\n",
        "    \"name\": \"Alice\",\n",
        "    \"city\": \"Paris\"\n",
        "}\n",
        "\n",
        "has_city = \"city\" in person_info\n",
        "\n",
        "print(has_city)\n"
      ],
      "metadata": {
        "colab": {
          "base_uri": "https://localhost:8080/"
        },
        "id": "mo0LDgMwwuUX",
        "outputId": "4123566e-9f59-487a-803a-4a8c474a0e1b"
      },
      "execution_count": 27,
      "outputs": [
        {
          "output_type": "stream",
          "name": "stdout",
          "text": [
            "True\n"
          ]
        }
      ]
    },
    {
      "cell_type": "markdown",
      "source": [
        "Q26. Write a code to create a list, a tuple, and a dictionary, and print them all."
      ],
      "metadata": {
        "id": "sCDqlA-pw3wq"
      }
    },
    {
      "cell_type": "code",
      "source": [
        "my_list = [10, 20, 30, 40]\n",
        "\n",
        "my_tuple = ('apple', 'banana', 'cherry')\n",
        "\n",
        "my_dictionary = {\n",
        "    \"name\": \"Alex\",\n",
        "    \"age\": 28,\n",
        "    \"city\": \"London\"\n",
        "}\n",
        "\n",
        "print(\"My List:\", my_list)\n",
        "print(\"My Tuple:\", my_tuple)\n",
        "print(\"My Dictionary:\", my_dictionary)"
      ],
      "metadata": {
        "colab": {
          "base_uri": "https://localhost:8080/"
        },
        "id": "lHSxYMspxASO",
        "outputId": "33c35d0f-45a4-4fec-ba38-f34738613ac3"
      },
      "execution_count": 28,
      "outputs": [
        {
          "output_type": "stream",
          "name": "stdout",
          "text": [
            "My List: [10, 20, 30, 40]\n",
            "My Tuple: ('apple', 'banana', 'cherry')\n",
            "My Dictionary: {'name': 'Alex', 'age': 28, 'city': 'London'}\n"
          ]
        }
      ]
    },
    {
      "cell_type": "markdown",
      "source": [
        "Q27. Write a code to create a list of 5 random numbers between 1 and 100, sort it in ascending order, and print the\n",
        "result.(replaced)"
      ],
      "metadata": {
        "id": "kG1rEEKgxlw_"
      }
    },
    {
      "cell_type": "code",
      "source": [
        "\n",
        "import random\n",
        "\n",
        "random_numbers = []\n",
        "\n",
        "for _ in range(5):\n",
        "    random_number = random.randint(1, 100)\n",
        "    random_numbers.append(random_number)\n",
        "\n",
        "print(\"Original list:\", random_numbers)\n",
        "\n",
        "random_numbers.sort()\n",
        "\n",
        "print(\"Sorted list:\", random_numbers)\n"
      ],
      "metadata": {
        "colab": {
          "base_uri": "https://localhost:8080/"
        },
        "id": "8IU7T620y3Ha",
        "outputId": "52a5a932-c1f3-48a4-f25a-f65a07cbfdb4"
      },
      "execution_count": 29,
      "outputs": [
        {
          "output_type": "stream",
          "name": "stdout",
          "text": [
            "Original list: [41, 72, 53, 8, 22]\n",
            "Sorted list: [8, 22, 41, 53, 72]\n"
          ]
        }
      ]
    },
    {
      "cell_type": "markdown",
      "source": [
        "Q28. Write a code to create a list with strings and print the element at the third index."
      ],
      "metadata": {
        "id": "kmpZ51EwzevS"
      }
    },
    {
      "cell_type": "code",
      "source": [
        "fruits = [\"apple\", \"banana\", \"cherry\", \"orange\", \"grape\"]\n",
        "\n",
        "third_index_element = fruits[3]\n",
        "\n",
        "print(\"The element at the third index is:\", third_index_element)"
      ],
      "metadata": {
        "colab": {
          "base_uri": "https://localhost:8080/"
        },
        "id": "LKItQLg00W4q",
        "outputId": "3aee50e3-93d9-405d-89bd-56b8ba0b5cf6"
      },
      "execution_count": 30,
      "outputs": [
        {
          "output_type": "stream",
          "name": "stdout",
          "text": [
            "The element at the third index is: orange\n"
          ]
        }
      ]
    },
    {
      "cell_type": "markdown",
      "source": [
        "Q29. Write a code to combine two dictionaries into one and print the result."
      ],
      "metadata": {
        "id": "Po0xyCb02yU1"
      }
    },
    {
      "cell_type": "code",
      "source": [
        "\n",
        "dict1 = {'name': 'syed', 'age': 30}\n",
        "\n",
        "dict2 = {'city': 'Amravati', 'country': 'IMDIA'}\n",
        "\n",
        "combined_dict = {**dict1, **dict2}\n",
        "\n",
        "print(combined_dict)\n"
      ],
      "metadata": {
        "colab": {
          "base_uri": "https://localhost:8080/"
        },
        "id": "5sSPTGez26e6",
        "outputId": "ddcabf96-1323-47c7-b5aa-cda285f12f7f"
      },
      "execution_count": 32,
      "outputs": [
        {
          "output_type": "stream",
          "name": "stdout",
          "text": [
            "{'name': 'syed', 'age': 30, 'city': 'Amravati', 'country': 'IMDIA'}\n"
          ]
        }
      ]
    },
    {
      "cell_type": "markdown",
      "source": [
        "Q30. Write a code to convert a list of strings into a set."
      ],
      "metadata": {
        "id": "yvok38sb3Ung"
      }
    },
    {
      "cell_type": "code",
      "source": [
        "string_list = [\"apple\", \"banana\", \"cherry\", \"apple\", \"banana\"]\n",
        "\n",
        "string_set = set(string_list)\n",
        "\n",
        "print(string_set)\n"
      ],
      "metadata": {
        "colab": {
          "base_uri": "https://localhost:8080/"
        },
        "id": "7AKdWhHt3X7Z",
        "outputId": "273556a0-3131-4e27-8313-6ccb79feecce"
      },
      "execution_count": 33,
      "outputs": [
        {
          "output_type": "stream",
          "name": "stdout",
          "text": [
            "{'banana', 'cherry', 'apple'}\n"
          ]
        }
      ]
    }
  ]
}